{
 "cells": [
  {
   "cell_type": "code",
   "execution_count": 4,
   "id": "3666fdf5-6aeb-4baa-aa34-c39049a9da10",
   "metadata": {},
   "outputs": [
    {
     "name": "stdout",
     "output_type": "stream",
     "text": [
      "10\n",
      "['a', 'b', '!!!']\n"
     ]
    }
   ],
   "source": [
    "def inc(x): \n",
    "    x=x+1\n",
    "x=10\n",
    "inc(x)\n",
    "print(x)\n",
    "\n",
    "def f1(list1):\n",
    "    list1.append(\"!!!\")\n",
    "    \n",
    "l =['a','b']\n",
    "f1(l)\n",
    "print(l)"
   ]
  },
  {
   "cell_type": "code",
   "execution_count": 14,
   "id": "a237e341-0a3e-4b30-ac3c-2141eb5f97e5",
   "metadata": {},
   "outputs": [
    {
     "name": "stdout",
     "output_type": "stream",
     "text": [
      "[32, 1, 32, 435, 34, 22]\n"
     ]
    }
   ],
   "source": [
    "def move(items): \n",
    "    item = items.pop()\n",
    "    items.insert(0,item)\n",
    "    return items;\n",
    "\n",
    "items = [1,32,435,34,22,32]\n",
    "print(move(items))"
   ]
  },
  {
   "cell_type": "code",
   "execution_count": 21,
   "id": "b336855d-34e3-4aa4-bb16-be58889e99ae",
   "metadata": {},
   "outputs": [
    {
     "name": "stdout",
     "output_type": "stream",
     "text": [
      "(0, 5, 9, 4)\n"
     ]
    }
   ],
   "source": [
    "\n",
    "def get_values(items, *indices): \n",
    "    values  = tuple()\n",
    "    for x in indices: \n",
    "        values = values + (items[x],)\n",
    "    return values;\n",
    "\n",
    "items_list = [0,3,5,'ksdf',9,4,'sda',32]\n",
    "\n",
    "print(get_values(items_list,0,2,4,5))"
   ]
  },
  {
   "cell_type": "code",
   "execution_count": null,
   "id": "1e6a91cc-dc8c-430f-bb6f-a7fc95c36419",
   "metadata": {},
   "outputs": [],
   "source": [
    "def acc(value, items):\n",
    "    for element in items:\n",
    "        value += element\n",
    "    return total"
   ]
  }
 ],
 "metadata": {
  "kernelspec": {
   "display_name": "Python 3 (ipykernel)",
   "language": "python",
   "name": "python3"
  },
  "language_info": {
   "codemirror_mode": {
    "name": "ipython",
    "version": 3
   },
   "file_extension": ".py",
   "mimetype": "text/x-python",
   "name": "python",
   "nbconvert_exporter": "python",
   "pygments_lexer": "ipython3",
   "version": "3.10.9"
  }
 },
 "nbformat": 4,
 "nbformat_minor": 5
}
