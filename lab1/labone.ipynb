{
 "cells": [
  {
   "cell_type": "code",
   "execution_count": 1,
   "id": "a81cf0a6-1a10-4b31-ab94-c2ea8e801432",
   "metadata": {},
   "outputs": [
    {
     "name": "stdin",
     "output_type": "stream",
     "text": [
      "Please enter a number:  10\n"
     ]
    },
    {
     "name": "stdout",
     "output_type": "stream",
     "text": [
      "Even\n"
     ]
    }
   ],
   "source": [
    "num = int(input(\"Please enter a number: \"));\n",
    "if num%2 == 0: \n",
    "    print(\"Even\")\n",
    "else:\n",
    "    print(\"Odd\")"
   ]
  },
  {
   "cell_type": "code",
   "execution_count": 2,
   "id": "d6015e4e-7c25-4775-8331-169d698be005",
   "metadata": {},
   "outputs": [
    {
     "name": "stdout",
     "output_type": "stream",
     "text": [
      "Divine Tettey \n",
      "27\n",
      "Divine Tettey 27\n"
     ]
    }
   ],
   "source": [
    "name = \"Divine Tettey \"\n",
    "age = 27\n",
    "\n",
    "print(name)\n",
    "print(age)\n",
    "person = name + str(age)\n",
    "print(person)\n"
   ]
  },
  {
   "cell_type": "code",
   "execution_count": 5,
   "id": "e3f8ce88-fd7f-40bd-90a8-4bb0648e1856",
   "metadata": {},
   "outputs": [
    {
     "name": "stdin",
     "output_type": "stream",
     "text": [
      "Guess a number between 1, 100 2\n",
      "Guess a number between 1, 100 34\n",
      "Guess a number between 1, 100 34\n",
      "Guess a number between 1, 100 32432\n",
      "Guess a number between 1, 100 23\n",
      "Guess a number between 1, 100 23\n",
      "Guess a number between 1, 100 23\n",
      "Guess a number between 1, 100 23\n",
      "Guess a number between 1, 100 2\n",
      "Guess a number between 1, 100 32\n",
      "Guess a number between 1, 100 32\n",
      "Guess a number between 1, 100 23\n",
      "Guess a number between 1, 100 3\n"
     ]
    },
    {
     "ename": "KeyboardInterrupt",
     "evalue": "Interrupted by user",
     "output_type": "error",
     "traceback": [
      "\u001b[1;31m---------------------------------------------------------------------------\u001b[0m",
      "\u001b[1;31mKeyboardInterrupt\u001b[0m                         Traceback (most recent call last)",
      "Cell \u001b[1;32mIn[5], line 7\u001b[0m\n\u001b[0;32m      5\u001b[0m num \u001b[38;5;241m=\u001b[39m \u001b[38;5;28mint\u001b[39m(\u001b[38;5;28minput\u001b[39m(\u001b[38;5;124m\"\u001b[39m\u001b[38;5;124mGuess a number between 1, 100\u001b[39m\u001b[38;5;124m\"\u001b[39m))\n\u001b[0;32m      6\u001b[0m \u001b[38;5;28;01mwhile\u001b[39;00m num \u001b[38;5;241m!=\u001b[39m random_num: \n\u001b[1;32m----> 7\u001b[0m     num \u001b[38;5;241m=\u001b[39m \u001b[38;5;28mint\u001b[39m(\u001b[38;5;28;43minput\u001b[39;49m\u001b[43m(\u001b[49m\u001b[38;5;124;43m\"\u001b[39;49m\u001b[38;5;124;43mGuess a number between 1, 100\u001b[39;49m\u001b[38;5;124;43m\"\u001b[39;49m\u001b[43m)\u001b[49m)\n\u001b[0;32m      9\u001b[0m \u001b[38;5;28mprint\u001b[39m(\u001b[38;5;124m\"\u001b[39m\u001b[38;5;124mYou guessed correctly: \u001b[39m\u001b[38;5;124m\"\u001b[39m)\n",
      "File \u001b[1;32m~\\AppData\\Local\\anaconda3\\lib\\site-packages\\ipykernel\\kernelbase.py:1175\u001b[0m, in \u001b[0;36mKernel.raw_input\u001b[1;34m(self, prompt)\u001b[0m\n\u001b[0;32m   1171\u001b[0m \u001b[38;5;28;01mif\u001b[39;00m \u001b[38;5;129;01mnot\u001b[39;00m \u001b[38;5;28mself\u001b[39m\u001b[38;5;241m.\u001b[39m_allow_stdin:\n\u001b[0;32m   1172\u001b[0m     \u001b[38;5;28;01mraise\u001b[39;00m StdinNotImplementedError(\n\u001b[0;32m   1173\u001b[0m         \u001b[38;5;124m\"\u001b[39m\u001b[38;5;124mraw_input was called, but this frontend does not support input requests.\u001b[39m\u001b[38;5;124m\"\u001b[39m\n\u001b[0;32m   1174\u001b[0m     )\n\u001b[1;32m-> 1175\u001b[0m \u001b[38;5;28;01mreturn\u001b[39;00m \u001b[38;5;28;43mself\u001b[39;49m\u001b[38;5;241;43m.\u001b[39;49m\u001b[43m_input_request\u001b[49m\u001b[43m(\u001b[49m\n\u001b[0;32m   1176\u001b[0m \u001b[43m    \u001b[49m\u001b[38;5;28;43mstr\u001b[39;49m\u001b[43m(\u001b[49m\u001b[43mprompt\u001b[49m\u001b[43m)\u001b[49m\u001b[43m,\u001b[49m\n\u001b[0;32m   1177\u001b[0m \u001b[43m    \u001b[49m\u001b[38;5;28;43mself\u001b[39;49m\u001b[38;5;241;43m.\u001b[39;49m\u001b[43m_parent_ident\u001b[49m\u001b[43m[\u001b[49m\u001b[38;5;124;43m\"\u001b[39;49m\u001b[38;5;124;43mshell\u001b[39;49m\u001b[38;5;124;43m\"\u001b[39;49m\u001b[43m]\u001b[49m\u001b[43m,\u001b[49m\n\u001b[0;32m   1178\u001b[0m \u001b[43m    \u001b[49m\u001b[38;5;28;43mself\u001b[39;49m\u001b[38;5;241;43m.\u001b[39;49m\u001b[43mget_parent\u001b[49m\u001b[43m(\u001b[49m\u001b[38;5;124;43m\"\u001b[39;49m\u001b[38;5;124;43mshell\u001b[39;49m\u001b[38;5;124;43m\"\u001b[39;49m\u001b[43m)\u001b[49m\u001b[43m,\u001b[49m\n\u001b[0;32m   1179\u001b[0m \u001b[43m    \u001b[49m\u001b[43mpassword\u001b[49m\u001b[38;5;241;43m=\u001b[39;49m\u001b[38;5;28;43;01mFalse\u001b[39;49;00m\u001b[43m,\u001b[49m\n\u001b[0;32m   1180\u001b[0m \u001b[43m\u001b[49m\u001b[43m)\u001b[49m\n",
      "File \u001b[1;32m~\\AppData\\Local\\anaconda3\\lib\\site-packages\\ipykernel\\kernelbase.py:1217\u001b[0m, in \u001b[0;36mKernel._input_request\u001b[1;34m(self, prompt, ident, parent, password)\u001b[0m\n\u001b[0;32m   1214\u001b[0m             \u001b[38;5;28;01mbreak\u001b[39;00m\n\u001b[0;32m   1215\u001b[0m \u001b[38;5;28;01mexcept\u001b[39;00m \u001b[38;5;167;01mKeyboardInterrupt\u001b[39;00m:\n\u001b[0;32m   1216\u001b[0m     \u001b[38;5;66;03m# re-raise KeyboardInterrupt, to truncate traceback\u001b[39;00m\n\u001b[1;32m-> 1217\u001b[0m     \u001b[38;5;28;01mraise\u001b[39;00m \u001b[38;5;167;01mKeyboardInterrupt\u001b[39;00m(\u001b[38;5;124m\"\u001b[39m\u001b[38;5;124mInterrupted by user\u001b[39m\u001b[38;5;124m\"\u001b[39m) \u001b[38;5;28;01mfrom\u001b[39;00m \u001b[38;5;28mNone\u001b[39m\n\u001b[0;32m   1218\u001b[0m \u001b[38;5;28;01mexcept\u001b[39;00m \u001b[38;5;167;01mException\u001b[39;00m:\n\u001b[0;32m   1219\u001b[0m     \u001b[38;5;28mself\u001b[39m\u001b[38;5;241m.\u001b[39mlog\u001b[38;5;241m.\u001b[39mwarning(\u001b[38;5;124m\"\u001b[39m\u001b[38;5;124mInvalid Message:\u001b[39m\u001b[38;5;124m\"\u001b[39m, exc_info\u001b[38;5;241m=\u001b[39m\u001b[38;5;28;01mTrue\u001b[39;00m)\n",
      "\u001b[1;31mKeyboardInterrupt\u001b[0m: Interrupted by user"
     ]
    }
   ],
   "source": [
    "import random\n",
    "\n",
    "random_num = random.randint(1, 100)\n",
    "\n",
    "num = int(input(\"Guess a number between 1, 100\"))\n",
    "while num != random_num: \n",
    "    num = int(input(\"Guess a number between 1, 100\"))\n",
    "    \n",
    "print(\"You guessed correctly: \")"
   ]
  },
  {
   "cell_type": "code",
   "execution_count": 6,
   "id": "a6b84fb6-e5f0-4611-b9db-293cd8552481",
   "metadata": {},
   "outputs": [
    {
     "name": "stdout",
     "output_type": "stream",
     "text": [
      "4\n",
      "16\n"
     ]
    }
   ],
   "source": [
    "num = [1,4,9,16,25]\n",
    "for i in num: \n",
    "    if i%2 == 0: \n",
    "        print(i)\n",
    "        \n"
   ]
  },
  {
   "cell_type": "code",
   "execution_count": 16,
   "id": "6b774aa7-3187-4ecd-92c8-efc2c8b2b8cd",
   "metadata": {},
   "outputs": [
    {
     "name": "stdout",
     "output_type": "stream",
     "text": [
      "378\n",
      "4536 Months,137970 Days,3311280 Hours\n"
     ]
    }
   ],
   "source": [
    "age = 27\n",
    "i = 1;\n",
    "sum = 0;\n",
    "while i <= 27: \n",
    "    sum +=i;\n",
    "    i +=1;\n",
    "print(sum)\n",
    "\n",
    "print(str(sum*12)+ \" Months,\"+str(sum*365)+\" Days,\" +str(sum * 365 * 24) + \" Hours\")"
   ]
  },
  {
   "cell_type": "code",
   "execution_count": 24,
   "id": "262f2b80-b3cf-4c28-a96d-d2fcfe0fb8a3",
   "metadata": {},
   "outputs": [
    {
     "name": "stdout",
     "output_type": "stream",
     "text": [
      "<class 'int'>\n",
      "<class 'int'>\n",
      "<class 'str'>\n",
      "<class 'complex'>\n",
      "<class 'tuple'>\n",
      "<class 'list'>\n",
      "<class 'NoneType'>\n"
     ]
    }
   ],
   "source": [
    " print(type(5))\n",
    "print(type(5000*5000000))\n",
    "print(type('j'))\n",
    "print(type(1j))\n",
    "print(type((1,)))\n",
    "print(type([1]))\n",
    "print(type(None))"
   ]
  },
  {
   "cell_type": "markdown",
   "id": "7a197f5c-767e-45d5-a660-0c4d97c5ec79",
   "metadata": {},
   "source": [
    "# Fibonnaci Sequence"
   ]
  },
  {
   "cell_type": "code",
   "execution_count": 31,
   "id": "5374fd52-a4c7-4994-9201-73e2f161355c",
   "metadata": {},
   "outputs": [
    {
     "name": "stdout",
     "output_type": "stream",
     "text": [
      "0\n",
      "1\n",
      "1\n",
      "2\n",
      "3\n",
      "5\n",
      "8\n",
      "13\n",
      "21\n",
      "34\n",
      "55\n",
      "89\n",
      "144\n",
      "233\n",
      "377\n",
      "610\n",
      "987\n",
      "1597\n",
      "2584\n",
      "4181\n",
      "6765\n"
     ]
    }
   ],
   "source": [
    "n = 0\n",
    "i = 1\n",
    "length = 0\n",
    "while length <= 20:\n",
    "    print(n)\n",
    "    nextValue = i + n\n",
    "    n = i\n",
    "    i = nextValue\n",
    "    \n",
    "    length += 1\n",
    "    \n",
    "    "
   ]
  },
  {
   "cell_type": "code",
   "execution_count": 37,
   "id": "2e2d045e-3583-4a8e-9a68-fcad6a1de50f",
   "metadata": {},
   "outputs": [
    {
     "name": "stdout",
     "output_type": "stream",
     "text": [
      "y\n",
      "D:\n",
      "i:\n",
      "v:\n",
      "i:\n",
      "n:\n",
      "e:\n",
      " :\n",
      "T:\n",
      "e:\n",
      "t:\n",
      "t:\n",
      "e:\n",
      "y:\n"
     ]
    }
   ],
   "source": [
    "name = \"Divine Tettey\"\n",
    "print(name[-1:])\n",
    "\n",
    "\n",
    "# loop to print each character\n",
    "for i in name: \n",
    "    print(i+\":\")"
   ]
  },
  {
   "cell_type": "code",
   "execution_count": 44,
   "id": "071a2b57-a607-4978-a32d-dbd0ae4132f7",
   "metadata": {},
   "outputs": [
    {
     "name": "stdin",
     "output_type": "stream",
     "text": [
      "Enter a number between 1 and 8:  43\n"
     ]
    },
    {
     "name": "stdout",
     "output_type": "stream",
     "text": [
      "43 is not between 1 and 8\n"
     ]
    },
    {
     "name": "stdin",
     "output_type": "stream",
     "text": [
      "Enter a number between 1 and 8:  4\n",
      "Enter a number between 1 and 8:  5\n",
      "Enter a number between 1 and 8:  1\n",
      "Enter a number between 1 and 8:  3\n",
      "Enter a number between 1 and 8:  2\n",
      "Enter a number between 1 and 8:  5\n",
      "Enter a number between 1 and 8:  6\n",
      "Enter a number between 1 and 8:  2\n",
      "Enter a number between 1 and 8:  6\n",
      "Enter a number between 1 and 8:  4\n"
     ]
    },
    {
     "name": "stdout",
     "output_type": "stream",
     "text": [
      "5 appears: 2\n"
     ]
    }
   ],
   "source": [
    "i = 0; \n",
    "num_list = []\n",
    "while i < 10: \n",
    "    num  = int(input(\"Enter a number between 1 and 8: \"))\n",
    "    if num < 0 or num > 8: \n",
    "        print(str(num) + \" is not between 1 and 8\")\n",
    "    else:\n",
    "        num_list.append(num)\n",
    "        i += 1;\n",
    "        \n",
    "print(\"5 appears: \"+str(num_list.count(5)) + \" times\")"
   ]
  },
  {
   "cell_type": "code",
   "execution_count": 46,
   "id": "71ad7ea1-4e9a-4746-850c-0cda54a1af6e",
   "metadata": {},
   "outputs": [
    {
     "name": "stdout",
     "output_type": "stream",
     "text": [
      "[4, 16]\n"
     ]
    }
   ],
   "source": [
    "num_list = [1, 4, 9,16,25]\n",
    "\n",
    "even_numbers = [x for x in num_list if x%2 == 0]\n",
    "\n",
    "print(even_numbers)"
   ]
  },
  {
   "cell_type": "code",
   "execution_count": null,
   "id": "b8e1cb4f-e9f2-47e6-8e38-0c0601a8524d",
   "metadata": {},
   "outputs": [],
   "source": []
  }
 ],
 "metadata": {
  "kernelspec": {
   "display_name": "Python 3 (ipykernel)",
   "language": "python",
   "name": "python3"
  },
  "language_info": {
   "codemirror_mode": {
    "name": "ipython",
    "version": 3
   },
   "file_extension": ".py",
   "mimetype": "text/x-python",
   "name": "python",
   "nbconvert_exporter": "python",
   "pygments_lexer": "ipython3",
   "version": "3.10.9"
  }
 },
 "nbformat": 4,
 "nbformat_minor": 5
}
