{
 "cells": [
  {
   "cell_type": "code",
   "execution_count": 1,
   "id": "230ab029-8b09-4572-b71f-826c7ec93fca",
   "metadata": {},
   "outputs": [],
   "source": [
    "import numpy as np\n",
    "import pandas as pd"
   ]
  },
  {
   "cell_type": "code",
   "execution_count": 26,
   "id": "3e055cde-3266-41d2-9cb9-79eeb8994733",
   "metadata": {},
   "outputs": [],
   "source": [
    "# read cvsv\n",
    "stock2016 = pd.read_csv(\"AAPL-2016.csv\")\n",
    "stock2017 = pd.read_csv(\"AAPL-2017.csv\")"
   ]
  },
  {
   "cell_type": "code",
   "execution_count": 36,
   "id": "e1cdcdb3-c900-4637-ad69-d92d75bd1f87",
   "metadata": {},
   "outputs": [
    {
     "name": "stdout",
     "output_type": "stream",
     "text": [
      "2016 Volumes:  9634995700\n",
      "2017 Volumes:  27181869600\n",
      "Difference:  17546873900\n"
     ]
    }
   ],
   "source": [
    "volumes2016 = np.array(stock2016['Volume'])\n",
    "volumes2017 = np.array(stock2017['Volume'])\n",
    "\n",
    "sumOf2016 = volumes2016.sum(axis=0)\n",
    "sumOf2017 = volumes2017.sum(axis=0)\n",
    "\n",
    "print(\"2016 Volumes: \",sumOf2016)\n",
    "print(\"2017 Volumes: \",sumOf2017)\n",
    "sumOf2017 = volumes2017.sum(axis=0)\n",
    "print(\"Difference: \",sumOf2017 - sumOf2016)"
   ]
  },
  {
   "cell_type": "code",
   "execution_count": 37,
   "id": "2d6210ee-24c2-423a-bd59-0f1c1177b96f",
   "metadata": {},
   "outputs": [
    {
     "data": {
      "text/plain": [
       "17546873900"
      ]
     },
     "execution_count": 37,
     "metadata": {},
     "output_type": "execute_result"
    }
   ],
   "source": [
    "change = volumes2017- volumes2016\n",
    "change.sum(axis=0)"
   ]
  },
  {
   "cell_type": "code",
   "execution_count": 74,
   "id": "82727551-72d0-4aba-a7f6-781784434225",
   "metadata": {},
   "outputs": [
    {
     "name": "stdout",
     "output_type": "stream",
     "text": [
      "[ 47478200  28681400  20317000  45913200  63449600  48109000  61200200\n",
      "  45905200  41277500  58749200  41764300  30054800  78230100  22400300\n",
      "  41049500  54433400 -28019300  26572800  57093500 155860500 410582800\n",
      "  88877300  51557500  60965500  98713800  47685200  71056000  30187300\n",
      "  51790200  83846900  97629200  51317400  53418600  63748000  51405000\n",
      "  46897100  59523700  52038500  58715300  95251300  71674400  47476700\n",
      "  40944900  33956300  43266900  61421900  44937600  42278600  77691100\n",
      "  36860300 137236500  51747300 113914400  67938100  48940800  63878900\n",
      "  68167400 114087800  85569900  39228100  52758400  54068800  42209400\n",
      "  84292900  58191900  34886900  52151900  92110100  54167700  38034300\n",
      "  40854500  11851000   8479600  60893500  38672600  36984700  41802900\n",
      "  52133200    969000 -31160500  52168900 112877300 134627900  36656300\n",
      "  68285300 159119100 113063400  70286400  75333600 101388900  27724100\n",
      "  35801200 141811000  87355900  65780800  61423500  47649600  38693400\n",
      "  41802200  49541600  24176400  61575300  23309200  81909500  61135200\n",
      "  78436700  60985900  62593700 238682700 262627800 104948700  88104300\n",
      "  96729700 171999200  98838800  38592200  50651300  40878800 112538500\n",
      "  70529400  23736200  42840000  85552700  55565400  21274800  60251900\n",
      "  68810000  45857700  59222800  50215100  75743100  76630100  54636200\n",
      "  56255000  41338200  47198100  45194900  78734400  53270800  47101900\n",
      "  22741100  73665400 -23490000  39513800 113740700 241579300  74572600\n",
      "  52037000  60072500 104270200  76488800 136902000  81019900  61006300\n",
      "  99201600  84818200  77968000  84356400  83489300  61050300  51776200\n",
      "  58017900  78245300  78777800  90301300  84108100  82276500  36702000\n",
      "  91172500  59804300  60833600  72081700  73321200 240299000 134336800\n",
      "  32866600  85569700  23094000   3355500 164782600 115532500 150578400\n",
      " 146475200  94158800  72147400  63414600  75558100  38908200  28542100\n",
      "  58953400  55398400  48177300  36272300  38109600  31386400    459400\n",
      "  27990000  61293600  40337000  41871900 145783300  75861800  63811400\n",
      "  47836100  61289700  19873000 111682600 144241200 106325500 108131800\n",
      " 121747800 209262700 113172600  66609000  65078000  93875900  41405600\n",
      "  10793900  65035900  65456900  62285500  28757500  37417600  72096300\n",
      "  73091000  30141300  55440800  94239300 139471600 137580000 122874900\n",
      "  93082700  82872800  79915500  76497700  63422100 114026900  43234200\n",
      "  68899200  38172200 126645400  71159900  65394500  66123000  62374600\n",
      "  41614400 106656100  71743300  47623900  83093700]\n"
     ]
    }
   ],
   "source": [
    "print(change)\n",
    "np.set_printoptions()"
   ]
  },
  {
   "cell_type": "code",
   "execution_count": 75,
   "id": "a6caacd7-87c1-41b4-9b6d-3f462434c8d7",
   "metadata": {},
   "outputs": [],
   "source": [
    "table2017 = np.array(stock2017)\n",
    "table2016 = np.array(stock2016)\n",
    "\n",
    "combined_years = np.concatenate((table2016,table2017), axis=0)"
   ]
  },
  {
   "cell_type": "code",
   "execution_count": 76,
   "id": "76af2acc-19e8-4c6c-a9b6-bfed834d7d03",
   "metadata": {},
   "outputs": [
    {
     "ename": "TypeError",
     "evalue": "Mismatch between array dtype ('object') and format specifier ('%10.2f,%10.2f,%10.2f,%10.2f,%10.2f,%10.2f,%10.2f')",
     "output_type": "error",
     "traceback": [
      "\u001b[1;31m---------------------------------------------------------------------------\u001b[0m",
      "\u001b[1;31mTypeError\u001b[0m                                 Traceback (most recent call last)",
      "File \u001b[1;32m~\\AppData\\Local\\anaconda3\\lib\\site-packages\\numpy\\lib\\npyio.py:1590\u001b[0m, in \u001b[0;36msavetxt\u001b[1;34m(fname, X, fmt, delimiter, newline, header, footer, comments, encoding)\u001b[0m\n\u001b[0;32m   1589\u001b[0m \u001b[38;5;28;01mtry\u001b[39;00m:\n\u001b[1;32m-> 1590\u001b[0m     v \u001b[38;5;241m=\u001b[39m \u001b[38;5;28;43mformat\u001b[39;49m\u001b[43m \u001b[49m\u001b[38;5;241;43m%\u001b[39;49m\u001b[43m \u001b[49m\u001b[38;5;28;43mtuple\u001b[39;49m\u001b[43m(\u001b[49m\u001b[43mrow\u001b[49m\u001b[43m)\u001b[49m \u001b[38;5;241m+\u001b[39m newline\n\u001b[0;32m   1591\u001b[0m \u001b[38;5;28;01mexcept\u001b[39;00m \u001b[38;5;167;01mTypeError\u001b[39;00m \u001b[38;5;28;01mas\u001b[39;00m e:\n",
      "\u001b[1;31mTypeError\u001b[0m: must be real number, not str",
      "\nThe above exception was the direct cause of the following exception:\n",
      "\u001b[1;31mTypeError\u001b[0m                                 Traceback (most recent call last)",
      "Cell \u001b[1;32mIn[76], line 2\u001b[0m\n\u001b[0;32m      1\u001b[0m \u001b[38;5;28;01mfrom\u001b[39;00m \u001b[38;5;21;01mnumpy\u001b[39;00m \u001b[38;5;28;01mimport\u001b[39;00m savetxt\n\u001b[1;32m----> 2\u001b[0m \u001b[43msavetxt\u001b[49m\u001b[43m(\u001b[49m\u001b[38;5;124;43m\"\u001b[39;49m\u001b[38;5;124;43mcombined_years.csv\u001b[39;49m\u001b[38;5;124;43m\"\u001b[39;49m\u001b[43m,\u001b[49m\u001b[43mcombined_years\u001b[49m\u001b[43m,\u001b[49m\u001b[43mdelimiter\u001b[49m\u001b[38;5;241;43m=\u001b[39;49m\u001b[38;5;124;43m\"\u001b[39;49m\u001b[38;5;124;43m,\u001b[39;49m\u001b[38;5;124;43m\"\u001b[39;49m\u001b[43m,\u001b[49m\u001b[43mfmt\u001b[49m\u001b[38;5;241;43m=\u001b[39;49m\u001b[38;5;124;43m'\u001b[39;49m\u001b[38;5;132;43;01m%10.2f\u001b[39;49;00m\u001b[38;5;124;43m'\u001b[39;49m\u001b[43m)\u001b[49m\n",
      "File \u001b[1;32m<__array_function__ internals>:180\u001b[0m, in \u001b[0;36msavetxt\u001b[1;34m(*args, **kwargs)\u001b[0m\n",
      "File \u001b[1;32m~\\AppData\\Local\\anaconda3\\lib\\site-packages\\numpy\\lib\\npyio.py:1592\u001b[0m, in \u001b[0;36msavetxt\u001b[1;34m(fname, X, fmt, delimiter, newline, header, footer, comments, encoding)\u001b[0m\n\u001b[0;32m   1590\u001b[0m             v \u001b[38;5;241m=\u001b[39m \u001b[38;5;28mformat\u001b[39m \u001b[38;5;241m%\u001b[39m \u001b[38;5;28mtuple\u001b[39m(row) \u001b[38;5;241m+\u001b[39m newline\n\u001b[0;32m   1591\u001b[0m         \u001b[38;5;28;01mexcept\u001b[39;00m \u001b[38;5;167;01mTypeError\u001b[39;00m \u001b[38;5;28;01mas\u001b[39;00m e:\n\u001b[1;32m-> 1592\u001b[0m             \u001b[38;5;28;01mraise\u001b[39;00m \u001b[38;5;167;01mTypeError\u001b[39;00m(\u001b[38;5;124m\"\u001b[39m\u001b[38;5;124mMismatch between array dtype (\u001b[39m\u001b[38;5;124m'\u001b[39m\u001b[38;5;132;01m%s\u001b[39;00m\u001b[38;5;124m'\u001b[39m\u001b[38;5;124m) and \u001b[39m\u001b[38;5;124m\"\u001b[39m\n\u001b[0;32m   1593\u001b[0m                             \u001b[38;5;124m\"\u001b[39m\u001b[38;5;124mformat specifier (\u001b[39m\u001b[38;5;124m'\u001b[39m\u001b[38;5;132;01m%s\u001b[39;00m\u001b[38;5;124m'\u001b[39m\u001b[38;5;124m)\u001b[39m\u001b[38;5;124m\"\u001b[39m\n\u001b[0;32m   1594\u001b[0m                             \u001b[38;5;241m%\u001b[39m (\u001b[38;5;28mstr\u001b[39m(X\u001b[38;5;241m.\u001b[39mdtype), \u001b[38;5;28mformat\u001b[39m)) \u001b[38;5;28;01mfrom\u001b[39;00m \u001b[38;5;21;01me\u001b[39;00m\n\u001b[0;32m   1595\u001b[0m         fh\u001b[38;5;241m.\u001b[39mwrite(v)\n\u001b[0;32m   1597\u001b[0m \u001b[38;5;28;01mif\u001b[39;00m \u001b[38;5;28mlen\u001b[39m(footer) \u001b[38;5;241m>\u001b[39m \u001b[38;5;241m0\u001b[39m:\n",
      "\u001b[1;31mTypeError\u001b[0m: Mismatch between array dtype ('object') and format specifier ('%10.2f,%10.2f,%10.2f,%10.2f,%10.2f,%10.2f,%10.2f')"
     ]
    }
   ],
   "source": [
    "from numpy import savetxt\n",
    "savetxt(\"combined_years.csv\",combined_years,delimiter=\",\",fmt='%10.2f')\n",
    "\n",
    "#pd.DataFrame(combined_years).to_csv('combined.csv')"
   ]
  },
  {
   "cell_type": "code",
   "execution_count": 89,
   "id": "4837ead2-b39b-49fa-89d5-c3fbfa0ae120",
   "metadata": {},
   "outputs": [
    {
     "name": "stdin",
     "output_type": "stream",
     "text": [
      "Enter a positive integer:  1000\n"
     ]
    },
    {
     "name": "stdout",
     "output_type": "stream",
     "text": [
      "[1, 2, 4, 5, 8, 10, 20, 25, 40, 50, 100, 125, 200, 250, 500, 1000]\n",
      "[1, 1000]\n",
      "1000 is not prime\n"
     ]
    }
   ],
   "source": [
    "def is_prime(): \n",
    "    num = int(input('Enter a positive integer: '))\n",
    "    if num <= 1: \n",
    "        print(num, \" not a prime number\")\n",
    "    else:\n",
    "        for i in range(1,num+1):\n",
    "            if(num%i == 0): \n",
    "                print('Not a prime')\n",
    "                break\n",
    "        \n",
    "is_prime()\n",
    "        "
   ]
  },
  {
   "cell_type": "code",
   "execution_count": null,
   "id": "57d3bf59-a9ca-46c8-82df-67b9044ef1df",
   "metadata": {},
   "outputs": [],
   "source": []
  }
 ],
 "metadata": {
  "kernelspec": {
   "display_name": "Python 3 (ipykernel)",
   "language": "python",
   "name": "python3"
  },
  "language_info": {
   "codemirror_mode": {
    "name": "ipython",
    "version": 3
   },
   "file_extension": ".py",
   "mimetype": "text/x-python",
   "name": "python",
   "nbconvert_exporter": "python",
   "pygments_lexer": "ipython3",
   "version": "3.10.9"
  }
 },
 "nbformat": 4,
 "nbformat_minor": 5
}
