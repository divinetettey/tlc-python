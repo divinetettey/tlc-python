{
 "cells": [
  {
   "cell_type": "code",
   "execution_count": 1,
   "id": "230ab029-8b09-4572-b71f-826c7ec93fca",
   "metadata": {},
   "outputs": [],
   "source": [
    "import numpy as np\n",
    "import pandas as pd"
   ]
  },
  {
   "cell_type": "code",
   "execution_count": null,
   "id": "3e055cde-3266-41d2-9cb9-79eeb8994733",
   "metadata": {},
   "outputs": [],
   "source": [
    "# read excel\n",
    "stock = pd.read_excel"
   ]
  }
 ],
 "metadata": {
  "kernelspec": {
   "display_name": "Python 3 (ipykernel)",
   "language": "python",
   "name": "python3"
  },
  "language_info": {
   "codemirror_mode": {
    "name": "ipython",
    "version": 3
   },
   "file_extension": ".py",
   "mimetype": "text/x-python",
   "name": "python",
   "nbconvert_exporter": "python",
   "pygments_lexer": "ipython3",
   "version": "3.10.9"
  }
 },
 "nbformat": 4,
 "nbformat_minor": 5
}
